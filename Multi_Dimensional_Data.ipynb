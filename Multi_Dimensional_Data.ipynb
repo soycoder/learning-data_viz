{
  "nbformat": 4,
  "nbformat_minor": 0,
  "metadata": {
    "colab": {
      "name": "Multi-Dimensional Data.ipynb",
      "provenance": [],
      "authorship_tag": "ABX9TyOFK1CEHfzSXh3UZeUUix55",
      "include_colab_link": true
    },
    "kernelspec": {
      "name": "python3",
      "display_name": "Python 3"
    }
  },
  "cells": [
    {
      "cell_type": "markdown",
      "metadata": {
        "id": "view-in-github",
        "colab_type": "text"
      },
      "source": [
        "<a href=\"https://colab.research.google.com/github/soycoder/learning-data_viz/blob/master/Multi_Dimensional_Data.ipynb\" target=\"_parent\"><img src=\"https://colab.research.google.com/assets/colab-badge.svg\" alt=\"Open In Colab\"/></a>"
      ]
    },
    {
      "cell_type": "markdown",
      "metadata": {
        "id": "uzalsjeMdpN0",
        "colab_type": "text"
      },
      "source": [
        "# **Effective Visualization of Multi-Dimensional Data — A Hands-on Approach**\n",
        "### Strategies for Effective Data Visualization\n",
        "Writer : Dipanjan (DJ) Sarkar\n",
        "\n",
        "[Ref.](https://medium.com/swlh/effective-visualization-of-multi-dimensional-data-a-hands-on-approach-b48f36a56ee8)"
      ]
    },
    {
      "cell_type": "code",
      "metadata": {
        "id": "2mmsSYNhSRil",
        "colab_type": "code",
        "colab": {
          "base_uri": "https://localhost:8080/",
          "height": 70
        },
        "outputId": "a261fcfb-59cd-4063-fd8e-9971befc2809"
      },
      "source": [
        "import pandas as pd\n",
        "import matplotlib as plt\n",
        "from mpl_toolkits.mplot3d import Axes3D\n",
        "import matplotlib as mpl\n",
        "import numpy as np\n",
        "import seaborn as sns\n",
        "import warnings\n",
        "warnings.filterwarnings('ignore')\n",
        "\n",
        "%matplotlib inline"
      ],
      "execution_count": 4,
      "outputs": [
        {
          "output_type": "stream",
          "text": [
            "/usr/local/lib/python3.6/dist-packages/statsmodels/tools/_testing.py:19: FutureWarning: pandas.util.testing is deprecated. Use the functions in the public API at pandas.testing instead.\n",
            "  import pandas.util.testing as tm\n"
          ],
          "name": "stderr"
        }
      ]
    },
    {
      "cell_type": "code",
      "metadata": {
        "id": "NoGXXmfnTXR0",
        "colab_type": "code",
        "colab": {
          "base_uri": "https://localhost:8080/",
          "height": 286
        },
        "outputId": "d073671b-8c50-4737-a565-88626edf8f79"
      },
      "source": [
        "vg_sales = pd.read_csv('/content/vgsales.csv', sep=',')\n",
        "\n",
        "# Filter Genre['Sports', 'Action']\n",
        "isSports = vg_sales['Genre'] == 'Sports'\n",
        "sports_vg_sales = vg_sales[isSports]\n",
        "\n",
        "isAction = vg_sales['Genre'] == 'Action'\n",
        "action_vg_sales = vg_sales[isAction]\n",
        "\n",
        "#Show\n",
        "print(sports_vg_sales.head())\n",
        "print(action_vg_sales.head())\n"
      ],
      "execution_count": 37,
      "outputs": [
        {
          "output_type": "stream",
          "text": [
            "    Rank               Name Platform  ...  JP_Sales Other_Sales Global_Sales\n",
            "0      1         Wii Sports      Wii  ...      3.77        8.46        82.74\n",
            "3      4  Wii Sports Resort      Wii  ...      3.28        2.96        33.00\n",
            "13    14            Wii Fit      Wii  ...      3.60        2.15        22.72\n",
            "14    15       Wii Fit Plus      Wii  ...      2.53        1.79        22.00\n",
            "77    78            FIFA 16      PS4  ...      0.06        1.26         8.49\n",
            "\n",
            "[5 rows x 11 columns]\n",
            "    Rank                           Name  ... Other_Sales  Global_Sales\n",
            "16    17             Grand Theft Auto V  ...        4.14         21.40\n",
            "17    18  Grand Theft Auto: San Andreas  ...       10.57         20.81\n",
            "23    24             Grand Theft Auto V  ...        1.38         16.38\n",
            "24    25    Grand Theft Auto: Vice City  ...        1.78         16.15\n",
            "38    39           Grand Theft Auto III  ...        1.30         13.10\n",
            "\n",
            "[5 rows x 11 columns]\n"
          ],
          "name": "stdout"
        }
      ]
    },
    {
      "cell_type": "code",
      "metadata": {
        "id": "lyOTpvQkWW67",
        "colab_type": "code",
        "colab": {
          "base_uri": "https://localhost:8080/",
          "height": 50
        },
        "outputId": "ec01e53f-4337-41b6-804a-6c029d9eab09"
      },
      "source": [
        "# Get names of indexes for which column each Country Sales has value 0\n",
        "country = ['NA_Sales','EU_Sales','JP_Sales','Other_Sales','Global_Sales']\n",
        "print('Before: ',sports_vg_sales.shape)\n",
        "for c in country:\n",
        "  # print(c)\n",
        "  # sports_vg_sales\n",
        "  indexNames = sports_vg_sales[ sports_vg_sales[c] == 0 ].index\n",
        "  sports_vg_sales.drop(indexNames , inplace=True)\n",
        "  # action_vg_sales\n",
        "  indexNames = action_vg_sales[ action_vg_sales[c] == 0 ].index\n",
        "  action_vg_sales.drop(indexNames , inplace=True)\n",
        "\n",
        "print('After: ',sports_vg_sales.shape)"
      ],
      "execution_count": 38,
      "outputs": [
        {
          "output_type": "stream",
          "text": [
            "Before:  (2346, 11)\n",
            "After:  (217, 11)\n"
          ],
          "name": "stdout"
        }
      ]
    },
    {
      "cell_type": "code",
      "metadata": {
        "id": "3cs3HHvmUd5A",
        "colab_type": "code",
        "colab": {
          "base_uri": "https://localhost:8080/",
          "height": 314
        },
        "outputId": "cb941fea-5914-4afd-cc77-08289ded651b"
      },
      "source": [
        "subset_attributes = ['NA_Sales','EU_Sales','JP_Sales','Other_Sales','Global_Sales' ]\n",
        "rsports_vg_sales = round(sports_vg_sales[subset_attributes].describe(),2)\n",
        "raction_vg_sales = round(action_vg_sales[subset_attributes].describe(),2)\n",
        "\n",
        "pd.concat([rsports_vg_sales,raction_vg_sales], axis=1, keys=['Genre : sports','Genre : action'])"
      ],
      "execution_count": 44,
      "outputs": [
        {
          "output_type": "execute_result",
          "data": {
            "text/html": [
              "<div>\n",
              "<style scoped>\n",
              "    .dataframe tbody tr th:only-of-type {\n",
              "        vertical-align: middle;\n",
              "    }\n",
              "\n",
              "    .dataframe tbody tr th {\n",
              "        vertical-align: top;\n",
              "    }\n",
              "\n",
              "    .dataframe thead tr th {\n",
              "        text-align: left;\n",
              "    }\n",
              "</style>\n",
              "<table border=\"1\" class=\"dataframe\">\n",
              "  <thead>\n",
              "    <tr>\n",
              "      <th></th>\n",
              "      <th colspan=\"5\" halign=\"left\">Genre : sports</th>\n",
              "      <th colspan=\"5\" halign=\"left\">Genre : action</th>\n",
              "    </tr>\n",
              "    <tr>\n",
              "      <th></th>\n",
              "      <th>NA_Sales</th>\n",
              "      <th>EU_Sales</th>\n",
              "      <th>JP_Sales</th>\n",
              "      <th>Other_Sales</th>\n",
              "      <th>Global_Sales</th>\n",
              "      <th>NA_Sales</th>\n",
              "      <th>EU_Sales</th>\n",
              "      <th>JP_Sales</th>\n",
              "      <th>Other_Sales</th>\n",
              "      <th>Global_Sales</th>\n",
              "    </tr>\n",
              "  </thead>\n",
              "  <tbody>\n",
              "    <tr>\n",
              "      <th>count</th>\n",
              "      <td>217.00</td>\n",
              "      <td>217.00</td>\n",
              "      <td>217.00</td>\n",
              "      <td>217.00</td>\n",
              "      <td>217.00</td>\n",
              "      <td>559.00</td>\n",
              "      <td>559.00</td>\n",
              "      <td>559.00</td>\n",
              "      <td>559.00</td>\n",
              "      <td>559.00</td>\n",
              "    </tr>\n",
              "    <tr>\n",
              "      <th>mean</th>\n",
              "      <td>1.01</td>\n",
              "      <td>0.95</td>\n",
              "      <td>0.28</td>\n",
              "      <td>0.30</td>\n",
              "      <td>2.55</td>\n",
              "      <td>0.76</td>\n",
              "      <td>0.53</td>\n",
              "      <td>0.18</td>\n",
              "      <td>0.19</td>\n",
              "      <td>1.66</td>\n",
              "    </tr>\n",
              "    <tr>\n",
              "      <th>std</th>\n",
              "      <td>3.16</td>\n",
              "      <td>2.36</td>\n",
              "      <td>0.57</td>\n",
              "      <td>0.69</td>\n",
              "      <td>6.39</td>\n",
              "      <td>1.11</td>\n",
              "      <td>0.83</td>\n",
              "      <td>0.33</td>\n",
              "      <td>0.54</td>\n",
              "      <td>2.32</td>\n",
              "    </tr>\n",
              "    <tr>\n",
              "      <th>min</th>\n",
              "      <td>0.01</td>\n",
              "      <td>0.01</td>\n",
              "      <td>0.01</td>\n",
              "      <td>0.01</td>\n",
              "      <td>0.05</td>\n",
              "      <td>0.01</td>\n",
              "      <td>0.01</td>\n",
              "      <td>0.01</td>\n",
              "      <td>0.01</td>\n",
              "      <td>0.08</td>\n",
              "    </tr>\n",
              "    <tr>\n",
              "      <th>25%</th>\n",
              "      <td>0.13</td>\n",
              "      <td>0.14</td>\n",
              "      <td>0.02</td>\n",
              "      <td>0.04</td>\n",
              "      <td>0.62</td>\n",
              "      <td>0.13</td>\n",
              "      <td>0.07</td>\n",
              "      <td>0.02</td>\n",
              "      <td>0.03</td>\n",
              "      <td>0.38</td>\n",
              "    </tr>\n",
              "    <tr>\n",
              "      <th>50%</th>\n",
              "      <td>0.35</td>\n",
              "      <td>0.32</td>\n",
              "      <td>0.06</td>\n",
              "      <td>0.12</td>\n",
              "      <td>1.31</td>\n",
              "      <td>0.39</td>\n",
              "      <td>0.22</td>\n",
              "      <td>0.06</td>\n",
              "      <td>0.07</td>\n",
              "      <td>0.91</td>\n",
              "    </tr>\n",
              "    <tr>\n",
              "      <th>75%</th>\n",
              "      <td>0.93</td>\n",
              "      <td>0.89</td>\n",
              "      <td>0.25</td>\n",
              "      <td>0.32</td>\n",
              "      <td>2.62</td>\n",
              "      <td>0.93</td>\n",
              "      <td>0.63</td>\n",
              "      <td>0.18</td>\n",
              "      <td>0.19</td>\n",
              "      <td>1.99</td>\n",
              "    </tr>\n",
              "    <tr>\n",
              "      <th>max</th>\n",
              "      <td>41.49</td>\n",
              "      <td>29.02</td>\n",
              "      <td>3.77</td>\n",
              "      <td>8.46</td>\n",
              "      <td>82.74</td>\n",
              "      <td>9.63</td>\n",
              "      <td>9.27</td>\n",
              "      <td>3.96</td>\n",
              "      <td>10.57</td>\n",
              "      <td>21.40</td>\n",
              "    </tr>\n",
              "  </tbody>\n",
              "</table>\n",
              "</div>"
            ],
            "text/plain": [
              "      Genre : sports                    ... Genre : action                         \n",
              "            NA_Sales EU_Sales JP_Sales  ...       JP_Sales Other_Sales Global_Sales\n",
              "count         217.00   217.00   217.00  ...         559.00      559.00       559.00\n",
              "mean            1.01     0.95     0.28  ...           0.18        0.19         1.66\n",
              "std             3.16     2.36     0.57  ...           0.33        0.54         2.32\n",
              "min             0.01     0.01     0.01  ...           0.01        0.01         0.08\n",
              "25%             0.13     0.14     0.02  ...           0.02        0.03         0.38\n",
              "50%             0.35     0.32     0.06  ...           0.06        0.07         0.91\n",
              "75%             0.93     0.89     0.25  ...           0.18        0.19         1.99\n",
              "max            41.49    29.02     3.77  ...           3.96       10.57        21.40\n",
              "\n",
              "[8 rows x 10 columns]"
            ]
          },
          "metadata": {
            "tags": []
          },
          "execution_count": 44
        }
      ]
    },
    {
      "cell_type": "code",
      "metadata": {
        "id": "G3bbyf_sdI9M",
        "colab_type": "code",
        "colab": {
          "base_uri": "https://localhost:8080/",
          "height": 458
        },
        "outputId": "fc08f144-ceff-44bf-f57d-737de276d097"
      },
      "source": [
        "sports_vg_sales.hist(bins=15, color='steelblue', edgecolor='black', linewidth=1.0,\n",
        "           xlabelsize=8, ylabelsize=8, grid=False)    \n",
        "plt.tight_layout(rect=(0, 0, 1.2, 1.2))  "
      ],
      "execution_count": 46,
      "outputs": [
        {
          "output_type": "error",
          "ename": "TypeError",
          "evalue": "ignored",
          "traceback": [
            "\u001b[0;31m---------------------------------------------------------------------------\u001b[0m",
            "\u001b[0;31mTypeError\u001b[0m                                 Traceback (most recent call last)",
            "\u001b[0;32m<ipython-input-46-44ffefeab0c7>\u001b[0m in \u001b[0;36m<module>\u001b[0;34m()\u001b[0m\n\u001b[1;32m      1\u001b[0m sports_vg_sales.hist(bins=15, color='steelblue', edgecolor='black', linewidth=1.0,\n\u001b[1;32m      2\u001b[0m            xlabelsize=8, ylabelsize=8, grid=False)    \n\u001b[0;32m----> 3\u001b[0;31m \u001b[0mplt\u001b[0m\u001b[0;34m.\u001b[0m\u001b[0mtight_layout\u001b[0m\u001b[0;34m(\u001b[0m\u001b[0mrect\u001b[0m\u001b[0;34m=\u001b[0m\u001b[0;34m(\u001b[0m\u001b[0;36m0\u001b[0m\u001b[0;34m,\u001b[0m \u001b[0;36m0\u001b[0m\u001b[0;34m,\u001b[0m \u001b[0;36m1.2\u001b[0m\u001b[0;34m,\u001b[0m \u001b[0;36m1.2\u001b[0m\u001b[0;34m)\u001b[0m\u001b[0;34m)\u001b[0m\u001b[0;34m\u001b[0m\u001b[0;34m\u001b[0m\u001b[0m\n\u001b[0m",
            "\u001b[0;31mTypeError\u001b[0m: 'module' object is not callable"
          ]
        },
        {
          "output_type": "display_data",
          "data": {
            "image/png": "[encoded data removed]",
            "text/plain": [
              "<Figure size 432x288 with 9 Axes>"
            ]
          },
          "metadata": {
            "tags": []
          }
        }
      ]
    }
  ]
}